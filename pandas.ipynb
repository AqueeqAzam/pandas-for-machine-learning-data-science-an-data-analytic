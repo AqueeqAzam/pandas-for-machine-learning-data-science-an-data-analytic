{
  "nbformat": 4,
  "nbformat_minor": 0,
  "metadata": {
    "colab": {
      "provenance": [],
      "authorship_tag": "ABX9TyPuNwTBrrR0AQnoGkZ9JFT4",
      "include_colab_link": true
    },
    "kernelspec": {
      "name": "python3",
      "display_name": "Python 3"
    },
    "language_info": {
      "name": "python"
    }
  },
  "cells": [
    {
      "cell_type": "markdown",
      "metadata": {
        "id": "view-in-github",
        "colab_type": "text"
      },
      "source": [
        "<a href=\"https://colab.research.google.com/github/AqueeqAzam/pandas-for-machine-learning-data-science-an-data-analytic/blob/main/pandas.ipynb\" target=\"_parent\"><img src=\"https://colab.research.google.com/assets/colab-badge.svg\" alt=\"Open In Colab\"/></a>"
      ]
    },
    {
      "cell_type": "markdown",
      "source": [
        "# `Series`"
      ],
      "metadata": {
        "id": "1nNQu0NNCimy"
      }
    },
    {
      "cell_type": "code",
      "source": [
        "import pandas as pd\n",
        "a = pd.Series([1, 2, 3, 4], name='python')\n",
        "print(a)\n",
        "\n",
        "# get data by index\n",
        "a = pd.Series([1, 2, 3, 4], index=['a', 'b', 'c', 'd'])\n",
        "print(a)\n",
        "print(type(a))\n",
        "\n",
        "# get value by index\n",
        "print(a[2])\n",
        "\n",
        "dic = {'name': ['python', 'c', 'c++', 'java'], 'por':[12, 13, 14, 15], 'rank':[1, 2, 3, 4]}\n",
        "var = pd.Series(dic)\n",
        "print(var)\n",
        "\n",
        "a = pd.Series([1, 2, 3, 4, 5, 6, 7])\n",
        "b = pd.Series([1, 2, 3, 4])\n",
        "print(a+b)"
      ],
      "metadata": {
        "id": "0XaeVkl7CrHl"
      },
      "execution_count": null,
      "outputs": []
    },
    {
      "cell_type": "markdown",
      "source": [
        "# `DataFrame`"
      ],
      "metadata": {
        "id": "cSwj_q1vHJfp"
      }
    },
    {
      "cell_type": "code",
      "source": [
        "import pandas as pd\n",
        "\n",
        "l = [1, 2, 3, 4, 5, 6, 7]\n",
        "var = pd.DataFrame(l)\n",
        "print(var)\n",
        "\n",
        "d = {'a': [1, 2, 3, 4, 5, 6, 7], 'b': [1, 2, 3, 4, 5, 6, 7]}\n",
        "var = pd.DataFrame(d, columns=['a', 1])\n",
        "print(var)"
      ],
      "metadata": {
        "id": "2g5pKSJNHLsA"
      },
      "execution_count": null,
      "outputs": []
    },
    {
      "cell_type": "markdown",
      "source": [
        "# `Arthematic Operation`"
      ],
      "metadata": {
        "id": "MuuI3zEoUaLY"
      }
    },
    {
      "cell_type": "code",
      "source": [
        "import pandas as pd\n",
        "\n",
        "var = pd.DataFrame({\"A\": [1, 2, 3], \"B\": [5, 6, 7]})\n",
        "\n",
        "# print(var)\n",
        "\n",
        "# addition\n",
        "var['C'] = var['A'] + var['B']\n",
        "print(var)\n",
        "\n",
        "# gt and lt\n",
        "var['python'] = var['A'] >=10\n",
        "print(var)"
      ],
      "metadata": {
        "id": "EhhzeVhNUc8Q"
      },
      "execution_count": null,
      "outputs": []
    },
    {
      "cell_type": "markdown",
      "source": [
        "# `Delete and Insert`"
      ],
      "metadata": {
        "id": "u1wN5W0rbjKK"
      }
    },
    {
      "cell_type": "code",
      "source": [
        "import pandas as pd\n",
        "\n",
        "var = pd.DataFrame({\"A\": [1, 2, 3], \"B\": [5, 6, 7], \"B\": [5, 6, 7], \"C\": [8, 9, 10]})\n",
        "\n",
        "# insert data insert(index, pos, data)\n",
        "var.insert(1, 'java', var['A'])\n",
        "print(var)\n",
        "\n",
        "# delete data\n",
        "var1 = var.pop('B')\n",
        "print(var1)\n",
        "print(var)\n"
      ],
      "metadata": {
        "id": "q1EJqu0dblvo"
      },
      "execution_count": null,
      "outputs": []
    },
    {
      "cell_type": "markdown",
      "source": [
        "# `Write csv File`"
      ],
      "metadata": {
        "id": "IJ-M17o9eTu-"
      }
    },
    {
      "cell_type": "code",
      "source": [
        "import pandas as pd\n",
        "\n",
        "dic = {'a': [1, 2, 3, 4], 'b': [5, 6, 7, 8], 'c': [9, 10, 11, 12]}\n",
        "df = pd.DataFrame(dic)\n",
        "print(df)\n",
        "\n",
        "df.to_csv('test.csv')"
      ],
      "metadata": {
        "id": "v4cguRK3eaIR"
      },
      "execution_count": null,
      "outputs": []
    },
    {
      "cell_type": "markdown",
      "source": [
        "# `Read csv`"
      ],
      "metadata": {
        "id": "CTWiH2RrgHOx"
      }
    },
    {
      "cell_type": "code",
      "source": [
        "import pandas as pd\n",
        "\n",
        "df = pd.read_csv(\"https://raw.githubusercontent.com/AqueeqAzam/data-science-and-machine-learning-datasets/main/test.csv\")\n",
        "print(df)"
      ],
      "metadata": {
        "id": "LTHnocUtkBTO"
      },
      "execution_count": null,
      "outputs": []
    },
    {
      "cell_type": "code",
      "source": [
        "import pandas as pd\n",
        "\n",
        "# df = pd.read_csv(\"https://raw.githubusercontent.com/AqueeqAzam/data-science-and-machine-learning-datasets/main/test.csv\")\n",
        "# print(df)\n",
        "\n",
        "# select one rows\n",
        "df = pd.read_csv(\"https://raw.githubusercontent.com/AqueeqAzam/data-science-and-machine-learning-datasets/main/test.csv\", nrows=1)\n",
        "# print(df)\n",
        "\n",
        "# select one columns\n",
        "df = pd.read_csv(\"https://raw.githubusercontent.com/AqueeqAzam/data-science-and-machine-learning-datasets/main/test.csv\", usecols=['company'])\n",
        "# print(df)\n",
        "\n",
        "# skip rows\n",
        "df = pd.read_csv(\"https://raw.githubusercontent.com/AqueeqAzam/data-science-and-machine-learning-datasets/main/test.csv\", skiprows=[1])\n",
        "# print(df)\n",
        "\n",
        "# makeing index\n",
        "df = pd.read_csv(\"https://raw.githubusercontent.com/AqueeqAzam/data-science-and-machine-learning-datasets/main/test.csv\", index_col=\"Name\")\n",
        "# print(df)\n",
        "\n",
        "# makeing heading\n",
        "df = pd.read_csv(\"https://raw.githubusercontent.com/AqueeqAzam/data-science-and-machine-learning-datasets/main/test.csv\", header=2)\n",
        "print(df)\n",
        "\n"
      ],
      "metadata": {
        "id": "S_N6vHobgM-e"
      },
      "execution_count": null,
      "outputs": []
    },
    {
      "cell_type": "markdown",
      "source": [
        "# `Special Function`"
      ],
      "metadata": {
        "id": "Rmy97Mn9m2N2"
      }
    },
    {
      "cell_type": "code",
      "source": [
        "import pandas as pd\n",
        "\n",
        "df = pd.read_csv(\"https://raw.githubusercontent.com/AqueeqAzam/data-science-and-machine-learning-datasets/main/test.csv\")\n",
        "df\n",
        "\n",
        "# index fun\n",
        "df.index\n",
        "\n",
        "# column fun\n",
        "df.columns\n",
        "\n",
        "# info fun\n",
        "# df.info()\n",
        "\n",
        "# shape fun\n",
        "# df.describe()\n",
        "\n",
        "# head fun\n",
        "df.head(2)\n",
        "\n",
        "# tsil fun\n",
        "df.tail(2)\n",
        "\n",
        "# index fun [start: index]\n",
        "df[:2]\n",
        "\n",
        "df[2:6]\n",
        "\n",
        "# index array\n",
        "df.index.array\n",
        "\n",
        "df.to_numpy()"
      ],
      "metadata": {
        "id": "AcZZsOjkm59t"
      },
      "execution_count": null,
      "outputs": []
    },
    {
      "cell_type": "markdown",
      "source": [
        "# `Handling Missing Data`"
      ],
      "metadata": {
        "id": "LXXZpYH-tSIn"
      }
    },
    {
      "cell_type": "code",
      "source": [
        "import pandas as pd\n",
        "import numpy as np\n",
        "\n",
        "\n",
        "df = pd.read_csv(\"https://raw.githubusercontent.com/AqueeqAzam/data-science-and-machine-learning-datasets/main/test.csv\")\n",
        "df\n",
        "\n",
        "# remove null values\n",
        "df.dropna()\n",
        "\n",
        "# fill data in null values\n",
        "df['Age'] = df['Age'].replace(np.nan, '30')\n",
        "df\n",
        "\n",
        "# fill comapny name at place of null value\n",
        "df['company'] = df['company'].replace(np.nan, 'Google')\n",
        "df\n",
        "\n"
      ],
      "metadata": {
        "id": "IHFBP7zatWdv"
      },
      "execution_count": null,
      "outputs": []
    },
    {
      "cell_type": "markdown",
      "source": [
        "# `Hangle duplicate value`"
      ],
      "metadata": {
        "id": "mAoEltAi-F9M"
      }
    },
    {
      "cell_type": "code",
      "source": [
        "import pandas as pd\n",
        "\n",
        "df = pd.read_csv(\"https://raw.githubusercontent.com/AqueeqAzam/data-science-and-machine-learning-datasets/main/test.csv\")\n",
        "df\n",
        "\n",
        "# see duplicate values\n",
        "df.duplicated()\n",
        "\n",
        "# calculate duplicate values\n",
        "df.duplicated().sum()\n",
        "\n",
        "# remove dupliaced values,User Id can not be same\n",
        "df.drop_duplicates('Id')\n",
        "\n"
      ],
      "metadata": {
        "id": "h_aaxo6u-Sm-"
      },
      "execution_count": null,
      "outputs": []
    },
    {
      "cell_type": "markdown",
      "source": [
        "# `Replace`"
      ],
      "metadata": {
        "id": "Ba423ljIl9ZO"
      }
    },
    {
      "cell_type": "code",
      "source": [
        "import pandas as pd\n",
        "\n",
        "df = pd.read_csv(\"https://raw.githubusercontent.com/AqueeqAzam/data-science-and-machine-learning-datasets/main/test.csv\")\n",
        "# print(df)\n",
        "\n",
        "# replace funtion\n",
        "df.replace(to_replace=\"Tyson\", value=\"Aqueeq\")\n",
        "df.replace(to_replace=\"amazon\", value=\"Amazon\")\n",
        "df.replace({\"Age\": '[21-23]'}, 24, regex=True)\n",
        "\n",
        "# forward and backword filling\n",
        "df.replace('40k',method='ffill')\n",
        "df.replace('40k',method='bfill')\n",
        "\n",
        "# limit function\n",
        "df.replace(332, method='bfill', limit=2)\n",
        "\n",
        "# interploate\n",
        "df.interpolate()"
      ],
      "metadata": {
        "id": "CRL9Lz4Ul8uO"
      },
      "execution_count": null,
      "outputs": []
    },
    {
      "cell_type": "markdown",
      "source": [
        "# `Merge and Cancat`"
      ],
      "metadata": {
        "id": "gzZdGUAhusj1"
      }
    },
    {
      "cell_type": "code",
      "source": [
        "import pandas as pd\n",
        "\n",
        "df1 = pd.DataFrame({'A':[1,2,3], 'B':[4,5,6]})\n",
        "df2 = pd.DataFrame({'A':[1,2,3], 'C':[4,5,6]})\n",
        "\n",
        "pd.merge(df1, df2, on='A')\n",
        "\n",
        "s1 = pd.Series([1,2,3,4])\n",
        "s2 = pd.Series([5,6,7,8])\n",
        "\n",
        "pd.concat([s1, s2])\n",
        "\n",
        "df1 = pd.DataFrame({'A':[1,2,3], 'B':[4,5,6]})\n",
        "df2 = pd.DataFrame({'A':[1,2], 'C':[4,5]})\n",
        "\n",
        "df1.join(df2, on='A' ,lsuffix='_left', rsuffix='_right')\n",
        "\n"
      ],
      "metadata": {
        "colab": {
          "base_uri": "https://localhost:8080/",
          "height": 143
        },
        "id": "77CdbmDduxwx",
        "outputId": "2198c7f9-e8f6-4947-9e61-049769af3caf"
      },
      "execution_count": null,
      "outputs": [
        {
          "output_type": "execute_result",
          "data": {
            "text/plain": [
              "   A_left  B  A_right    C\n",
              "0       1  4      2.0  5.0\n",
              "1       2  5      NaN  NaN\n",
              "2       3  6      NaN  NaN"
            ],
            "text/html": [
              "\n",
              "  <div id=\"df-046a6889-2461-43e5-b9ba-8fd23b0504a0\" class=\"colab-df-container\">\n",
              "    <div>\n",
              "<style scoped>\n",
              "    .dataframe tbody tr th:only-of-type {\n",
              "        vertical-align: middle;\n",
              "    }\n",
              "\n",
              "    .dataframe tbody tr th {\n",
              "        vertical-align: top;\n",
              "    }\n",
              "\n",
              "    .dataframe thead th {\n",
              "        text-align: right;\n",
              "    }\n",
              "</style>\n",
              "<table border=\"1\" class=\"dataframe\">\n",
              "  <thead>\n",
              "    <tr style=\"text-align: right;\">\n",
              "      <th></th>\n",
              "      <th>A_left</th>\n",
              "      <th>B</th>\n",
              "      <th>A_right</th>\n",
              "      <th>C</th>\n",
              "    </tr>\n",
              "  </thead>\n",
              "  <tbody>\n",
              "    <tr>\n",
              "      <th>0</th>\n",
              "      <td>1</td>\n",
              "      <td>4</td>\n",
              "      <td>2.0</td>\n",
              "      <td>5.0</td>\n",
              "    </tr>\n",
              "    <tr>\n",
              "      <th>1</th>\n",
              "      <td>2</td>\n",
              "      <td>5</td>\n",
              "      <td>NaN</td>\n",
              "      <td>NaN</td>\n",
              "    </tr>\n",
              "    <tr>\n",
              "      <th>2</th>\n",
              "      <td>3</td>\n",
              "      <td>6</td>\n",
              "      <td>NaN</td>\n",
              "      <td>NaN</td>\n",
              "    </tr>\n",
              "  </tbody>\n",
              "</table>\n",
              "</div>\n",
              "    <div class=\"colab-df-buttons\">\n",
              "\n",
              "  <div class=\"colab-df-container\">\n",
              "    <button class=\"colab-df-convert\" onclick=\"convertToInteractive('df-046a6889-2461-43e5-b9ba-8fd23b0504a0')\"\n",
              "            title=\"Convert this dataframe to an interactive table.\"\n",
              "            style=\"display:none;\">\n",
              "\n",
              "  <svg xmlns=\"http://www.w3.org/2000/svg\" height=\"24px\" viewBox=\"0 -960 960 960\">\n",
              "    <path d=\"M120-120v-720h720v720H120Zm60-500h600v-160H180v160Zm220 220h160v-160H400v160Zm0 220h160v-160H400v160ZM180-400h160v-160H180v160Zm440 0h160v-160H620v160ZM180-180h160v-160H180v160Zm440 0h160v-160H620v160Z\"/>\n",
              "  </svg>\n",
              "    </button>\n",
              "\n",
              "  <style>\n",
              "    .colab-df-container {\n",
              "      display:flex;\n",
              "      gap: 12px;\n",
              "    }\n",
              "\n",
              "    .colab-df-convert {\n",
              "      background-color: #E8F0FE;\n",
              "      border: none;\n",
              "      border-radius: 50%;\n",
              "      cursor: pointer;\n",
              "      display: none;\n",
              "      fill: #1967D2;\n",
              "      height: 32px;\n",
              "      padding: 0 0 0 0;\n",
              "      width: 32px;\n",
              "    }\n",
              "\n",
              "    .colab-df-convert:hover {\n",
              "      background-color: #E2EBFA;\n",
              "      box-shadow: 0px 1px 2px rgba(60, 64, 67, 0.3), 0px 1px 3px 1px rgba(60, 64, 67, 0.15);\n",
              "      fill: #174EA6;\n",
              "    }\n",
              "\n",
              "    .colab-df-buttons div {\n",
              "      margin-bottom: 4px;\n",
              "    }\n",
              "\n",
              "    [theme=dark] .colab-df-convert {\n",
              "      background-color: #3B4455;\n",
              "      fill: #D2E3FC;\n",
              "    }\n",
              "\n",
              "    [theme=dark] .colab-df-convert:hover {\n",
              "      background-color: #434B5C;\n",
              "      box-shadow: 0px 1px 3px 1px rgba(0, 0, 0, 0.15);\n",
              "      filter: drop-shadow(0px 1px 2px rgba(0, 0, 0, 0.3));\n",
              "      fill: #FFFFFF;\n",
              "    }\n",
              "  </style>\n",
              "\n",
              "    <script>\n",
              "      const buttonEl =\n",
              "        document.querySelector('#df-046a6889-2461-43e5-b9ba-8fd23b0504a0 button.colab-df-convert');\n",
              "      buttonEl.style.display =\n",
              "        google.colab.kernel.accessAllowed ? 'block' : 'none';\n",
              "\n",
              "      async function convertToInteractive(key) {\n",
              "        const element = document.querySelector('#df-046a6889-2461-43e5-b9ba-8fd23b0504a0');\n",
              "        const dataTable =\n",
              "          await google.colab.kernel.invokeFunction('convertToInteractive',\n",
              "                                                    [key], {});\n",
              "        if (!dataTable) return;\n",
              "\n",
              "        const docLinkHtml = 'Like what you see? Visit the ' +\n",
              "          '<a target=\"_blank\" href=https://colab.research.google.com/notebooks/data_table.ipynb>data table notebook</a>'\n",
              "          + ' to learn more about interactive tables.';\n",
              "        element.innerHTML = '';\n",
              "        dataTable['output_type'] = 'display_data';\n",
              "        await google.colab.output.renderOutput(dataTable, element);\n",
              "        const docLink = document.createElement('div');\n",
              "        docLink.innerHTML = docLinkHtml;\n",
              "        element.appendChild(docLink);\n",
              "      }\n",
              "    </script>\n",
              "  </div>\n",
              "\n",
              "\n",
              "<div id=\"df-7ad63b82-b53b-4dee-aa7d-ea0e8df6225c\">\n",
              "  <button class=\"colab-df-quickchart\" onclick=\"quickchart('df-7ad63b82-b53b-4dee-aa7d-ea0e8df6225c')\"\n",
              "            title=\"Suggest charts\"\n",
              "            style=\"display:none;\">\n",
              "\n",
              "<svg xmlns=\"http://www.w3.org/2000/svg\" height=\"24px\"viewBox=\"0 0 24 24\"\n",
              "     width=\"24px\">\n",
              "    <g>\n",
              "        <path d=\"M19 3H5c-1.1 0-2 .9-2 2v14c0 1.1.9 2 2 2h14c1.1 0 2-.9 2-2V5c0-1.1-.9-2-2-2zM9 17H7v-7h2v7zm4 0h-2V7h2v10zm4 0h-2v-4h2v4z\"/>\n",
              "    </g>\n",
              "</svg>\n",
              "  </button>\n",
              "\n",
              "<style>\n",
              "  .colab-df-quickchart {\n",
              "      --bg-color: #E8F0FE;\n",
              "      --fill-color: #1967D2;\n",
              "      --hover-bg-color: #E2EBFA;\n",
              "      --hover-fill-color: #174EA6;\n",
              "      --disabled-fill-color: #AAA;\n",
              "      --disabled-bg-color: #DDD;\n",
              "  }\n",
              "\n",
              "  [theme=dark] .colab-df-quickchart {\n",
              "      --bg-color: #3B4455;\n",
              "      --fill-color: #D2E3FC;\n",
              "      --hover-bg-color: #434B5C;\n",
              "      --hover-fill-color: #FFFFFF;\n",
              "      --disabled-bg-color: #3B4455;\n",
              "      --disabled-fill-color: #666;\n",
              "  }\n",
              "\n",
              "  .colab-df-quickchart {\n",
              "    background-color: var(--bg-color);\n",
              "    border: none;\n",
              "    border-radius: 50%;\n",
              "    cursor: pointer;\n",
              "    display: none;\n",
              "    fill: var(--fill-color);\n",
              "    height: 32px;\n",
              "    padding: 0;\n",
              "    width: 32px;\n",
              "  }\n",
              "\n",
              "  .colab-df-quickchart:hover {\n",
              "    background-color: var(--hover-bg-color);\n",
              "    box-shadow: 0 1px 2px rgba(60, 64, 67, 0.3), 0 1px 3px 1px rgba(60, 64, 67, 0.15);\n",
              "    fill: var(--button-hover-fill-color);\n",
              "  }\n",
              "\n",
              "  .colab-df-quickchart-complete:disabled,\n",
              "  .colab-df-quickchart-complete:disabled:hover {\n",
              "    background-color: var(--disabled-bg-color);\n",
              "    fill: var(--disabled-fill-color);\n",
              "    box-shadow: none;\n",
              "  }\n",
              "\n",
              "  .colab-df-spinner {\n",
              "    border: 2px solid var(--fill-color);\n",
              "    border-color: transparent;\n",
              "    border-bottom-color: var(--fill-color);\n",
              "    animation:\n",
              "      spin 1s steps(1) infinite;\n",
              "  }\n",
              "\n",
              "  @keyframes spin {\n",
              "    0% {\n",
              "      border-color: transparent;\n",
              "      border-bottom-color: var(--fill-color);\n",
              "      border-left-color: var(--fill-color);\n",
              "    }\n",
              "    20% {\n",
              "      border-color: transparent;\n",
              "      border-left-color: var(--fill-color);\n",
              "      border-top-color: var(--fill-color);\n",
              "    }\n",
              "    30% {\n",
              "      border-color: transparent;\n",
              "      border-left-color: var(--fill-color);\n",
              "      border-top-color: var(--fill-color);\n",
              "      border-right-color: var(--fill-color);\n",
              "    }\n",
              "    40% {\n",
              "      border-color: transparent;\n",
              "      border-right-color: var(--fill-color);\n",
              "      border-top-color: var(--fill-color);\n",
              "    }\n",
              "    60% {\n",
              "      border-color: transparent;\n",
              "      border-right-color: var(--fill-color);\n",
              "    }\n",
              "    80% {\n",
              "      border-color: transparent;\n",
              "      border-right-color: var(--fill-color);\n",
              "      border-bottom-color: var(--fill-color);\n",
              "    }\n",
              "    90% {\n",
              "      border-color: transparent;\n",
              "      border-bottom-color: var(--fill-color);\n",
              "    }\n",
              "  }\n",
              "</style>\n",
              "\n",
              "  <script>\n",
              "    async function quickchart(key) {\n",
              "      const quickchartButtonEl =\n",
              "        document.querySelector('#' + key + ' button');\n",
              "      quickchartButtonEl.disabled = true;  // To prevent multiple clicks.\n",
              "      quickchartButtonEl.classList.add('colab-df-spinner');\n",
              "      try {\n",
              "        const charts = await google.colab.kernel.invokeFunction(\n",
              "            'suggestCharts', [key], {});\n",
              "      } catch (error) {\n",
              "        console.error('Error during call to suggestCharts:', error);\n",
              "      }\n",
              "      quickchartButtonEl.classList.remove('colab-df-spinner');\n",
              "      quickchartButtonEl.classList.add('colab-df-quickchart-complete');\n",
              "    }\n",
              "    (() => {\n",
              "      let quickchartButtonEl =\n",
              "        document.querySelector('#df-7ad63b82-b53b-4dee-aa7d-ea0e8df6225c button');\n",
              "      quickchartButtonEl.style.display =\n",
              "        google.colab.kernel.accessAllowed ? 'block' : 'none';\n",
              "    })();\n",
              "  </script>\n",
              "</div>\n",
              "\n",
              "    </div>\n",
              "  </div>\n"
            ],
            "application/vnd.google.colaboratory.intrinsic+json": {
              "type": "dataframe",
              "summary": "{\n  \"name\": \"df1\",\n  \"rows\": 3,\n  \"fields\": [\n    {\n      \"column\": \"A_left\",\n      \"properties\": {\n        \"dtype\": \"number\",\n        \"std\": 1,\n        \"min\": 1,\n        \"max\": 3,\n        \"num_unique_values\": 3,\n        \"samples\": [\n          1,\n          2,\n          3\n        ],\n        \"semantic_type\": \"\",\n        \"description\": \"\"\n      }\n    },\n    {\n      \"column\": \"B\",\n      \"properties\": {\n        \"dtype\": \"number\",\n        \"std\": 1,\n        \"min\": 4,\n        \"max\": 6,\n        \"num_unique_values\": 3,\n        \"samples\": [\n          4,\n          5,\n          6\n        ],\n        \"semantic_type\": \"\",\n        \"description\": \"\"\n      }\n    },\n    {\n      \"column\": \"A_right\",\n      \"properties\": {\n        \"dtype\": \"number\",\n        \"std\": null,\n        \"min\": 2.0,\n        \"max\": 2.0,\n        \"num_unique_values\": 1,\n        \"samples\": [\n          2.0\n        ],\n        \"semantic_type\": \"\",\n        \"description\": \"\"\n      }\n    },\n    {\n      \"column\": \"C\",\n      \"properties\": {\n        \"dtype\": \"number\",\n        \"std\": null,\n        \"min\": 5.0,\n        \"max\": 5.0,\n        \"num_unique_values\": 1,\n        \"samples\": [\n          5.0\n        ],\n        \"semantic_type\": \"\",\n        \"description\": \"\"\n      }\n    }\n  ]\n}"
            }
          },
          "metadata": {},
          "execution_count": 30
        }
      ]
    }
  ]
}